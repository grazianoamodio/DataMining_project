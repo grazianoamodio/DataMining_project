{
 "cells": [
  {
   "cell_type": "code",
   "execution_count": null,
   "id": "cab42522",
   "metadata": {},
   "outputs": [],
   "source": [
    "%matplotlib inline\n",
    "\n",
    "import numpy as np\n",
    "import pandas as pd\n",
    "import matplotlib.pyplot as plt\n",
    "\n",
    "from collections import defaultdict"
   ]
  },
  {
   "cell_type": "markdown",
   "id": "ff839825",
   "metadata": {},
   "source": [
    "# Data Preparation"
   ]
  },
  {
   "cell_type": "code",
   "execution_count": null,
   "id": "4d8427a4",
   "metadata": {},
   "outputs": [],
   "source": [
    "X_train = pd.read_csv(\"X_train.txt\", header=None,  delim_whitespace=True)\n",
    "y_train = pd.read_csv(\"y_train.txt\", header=None, delim_whitespace=True )\n",
    "X_test = pd.read_csv(\"X_test.txt\", header=None, delim_whitespace=True )\n",
    "y_test = pd.read_csv(\"y_test.txt\", header=None, delim_whitespace=True )\n",
    "subject_test = pd.read_csv(\"subject_test.txt\", header=None, delim_whitespace=True )\n",
    "subject_train = pd.read_csv(\"subject_train.txt\", header=None, delim_whitespace=True )\n",
    "features = pd.read_csv(\"features.txt\", header=None, delim_whitespace=True )"
   ]
  },
  {
   "cell_type": "code",
   "execution_count": null,
   "id": "a6f8faaf",
   "metadata": {},
   "outputs": [],
   "source": [
    "body_acc_x_train = pd.read_csv(\"body_acc_x_train.txt\", header=None,  delim_whitespace=True)\n",
    "body_acc_y_train = pd.read_csv(\"body_acc_y_train.txt\", header=None,  delim_whitespace=True)\n",
    "body_acc_z_train = pd.read_csv(\"body_acc_z_train.txt\", header=None,  delim_whitespace=True)\n",
    "body_gyro_x_train = pd.read_csv(\"body_gyro_x_train.txt\", header=None,  delim_whitespace=True)\n",
    "body_gyro_y_train = pd.read_csv(\"body_gyro_y_train.txt\", header=None,  delim_whitespace=True)\n",
    "body_gyro_z_train = pd.read_csv(\"body_gyro_z_train.txt\", header=None,  delim_whitespace=True)\n",
    "total_acc_x_train = pd.read_csv(\"body_gyro_x_train.txt\", header=None,  delim_whitespace=True)\n",
    "total_acc_y_train = pd.read_csv(\"body_gyro_y_train.txt\", header=None,  delim_whitespace=True)\n",
    "total_acc_z_train = pd.read_csv(\"body_gyro_z_train.txt\", header=None,  delim_whitespace=True)\n",
    "\n",
    "body_acc_x_test  = pd.read_csv(\"body_acc_x_test.txt\", header=None,  delim_whitespace=True)\n",
    "body_acc_y_test  = pd.read_csv(\"body_acc_y_test.txt\", header=None,  delim_whitespace=True)\n",
    "body_acc_z_test  = pd.read_csv(\"body_acc_z_test.txt\", header=None,  delim_whitespace=True)\n",
    "body_gyro_x_test = pd.read_csv(\"body_gyro_x_test.txt\", header=None,  delim_whitespace=True)\n",
    "body_gyro_y_test = pd.read_csv(\"body_gyro_y_test.txt\", header=None,  delim_whitespace=True)\n",
    "body_gyro_z_test = pd.read_csv(\"body_gyro_z_test.txt\", header=None,  delim_whitespace=True)\n",
    "total_acc_x_test = pd.read_csv(\"body_gyro_x_test.txt\", header=None,  delim_whitespace=True)\n",
    "total_acc_y_test = pd.read_csv(\"body_gyro_y_test.txt\", header=None,  delim_whitespace=True)\n",
    "total_acc_z_test = pd.read_csv(\"body_gyro_z_test.txt\", header=None,  delim_whitespace=True)"
   ]
  },
  {
   "cell_type": "code",
   "execution_count": null,
   "id": "f65e582e",
   "metadata": {},
   "outputs": [],
   "source": [
    "feature = features\n",
    "feature.drop(0,inplace=True, axis=1)"
   ]
  },
  {
   "cell_type": "code",
   "execution_count": null,
   "id": "6b266a8f",
   "metadata": {},
   "outputs": [],
   "source": [
    "#inseriamo l'intestazione al dataset\n",
    "lista=[]\n",
    "feat_transpa = feature.transpose()\n",
    "for i in range(561):\n",
    "    lista.append(feat_transpa.iloc[0][i])\n",
    "X_test.columns=lista    \n",
    "X_train.columns=lista"
   ]
  },
  {
   "cell_type": "code",
   "execution_count": null,
   "id": "0521bb7f",
   "metadata": {},
   "outputs": [],
   "source": [
    "# eliminiamo le colonne che contengono la stima mad in quanto quasi uguale a dev.std\n",
    "\n",
    "stringa=\"mad()\"\n",
    "for col in X_train.columns:\n",
    "    if(stringa in col):\n",
    "        X_train.drop(labels=col, axis=1, inplace=True)\n",
    "for col in X_test.columns:\n",
    "    if(stringa in col):\n",
    "        X_test.drop(labels=col, axis=1, inplace=True)\n",
    "#for col in features:\n",
    "#    if (stringa in col):\n",
    "#        features.drop(labels=col,axis=1,inplace=True)"
   ]
  },
  {
   "cell_type": "markdown",
   "id": "e91f0f1c",
   "metadata": {},
   "source": [
    "## Sax_transformation"
   ]
  },
  {
   "cell_type": "code",
   "execution_count": null,
   "id": "de0a6eca",
   "metadata": {},
   "outputs": [],
   "source": [
    "from tslearn.preprocessing import TimeSeriesScalerMeanVariance\n",
    "from tslearn.piecewise import SymbolicAggregateApproximation\n",
    "\n",
    "ts=body_gyro_z_train"
   ]
  },
  {
   "cell_type": "code",
   "execution_count": null,
   "id": "bbf4c9b7",
   "metadata": {},
   "outputs": [],
   "source": [
    "#normalizz\n",
    "scaler = TimeSeriesScalerMeanVariance(mu=0., std=1.)  # Rescale time series # Normalizza una riga\n",
    "ts_norm = scaler.fit_transform(ts)\n",
    "ts_norm.shape"
   ]
  },
  {
   "cell_type": "code",
   "execution_count": null,
   "id": "0570652b",
   "metadata": {},
   "outputs": [],
   "source": [
    "n_paa_segments = 24\n",
    "n_sax_symbols = 6\n",
    "sax = SymbolicAggregateApproximation(n_segments=n_paa_segments, alphabet_size_avg=n_sax_symbols)\n",
    "ts_sax = sax.fit_transform(ts_norm)\n",
    "ts_sax_inv = sax.inverse_transform(ts_sax)"
   ]
  },
  {
   "cell_type": "code",
   "execution_count": null,
   "id": "538d5b6c",
   "metadata": {},
   "outputs": [],
   "source": [
    "np.unique(ts_sax_inv)    #Per vedere i valori soglia"
   ]
  },
  {
   "cell_type": "code",
   "execution_count": null,
   "id": "4bf748c9",
   "metadata": {},
   "outputs": [],
   "source": [
    "plt.figure(figsize=(8,5))\n",
    "plt.plot(ts_norm[2528], label='Original') #Max var Walking-upstair 2528\n",
    "plt.plot(ts_sax_inv[2528], label='SAX_Approx') #min var Sitting 3288\n",
    "#plt.plot(ts_sax[0], label='SAX')\n",
    "plt.legend(loc='best')\n",
    "plt.show()"
   ]
  },
  {
   "cell_type": "markdown",
   "id": "466c384d",
   "metadata": {},
   "source": [
    "## Sequential Pattern Mining"
   ]
  },
  {
   "cell_type": "code",
   "execution_count": null,
   "id": "53b162dd",
   "metadata": {},
   "outputs": [],
   "source": [
    "#!pip install prefixspan"
   ]
  },
  {
   "cell_type": "code",
   "execution_count": null,
   "id": "12d9b4f5",
   "metadata": {},
   "outputs": [],
   "source": [
    "from prefixspan import PrefixSpan"
   ]
  },
  {
   "cell_type": "code",
   "execution_count": null,
   "id": "e51ab71c",
   "metadata": {},
   "outputs": [],
   "source": [
    "ts_sax=ts_sax.reshape(7352,24)\n",
    "ps = PrefixSpan(ts_sax)"
   ]
  },
  {
   "cell_type": "code",
   "execution_count": null,
   "id": "44ccdc30",
   "metadata": {},
   "outputs": [],
   "source": [
    "ts_sax"
   ]
  },
  {
   "cell_type": "code",
   "execution_count": null,
   "id": "261538a0",
   "metadata": {},
   "outputs": [],
   "source": [
    "b=ps.topk(7352)"
   ]
  },
  {
   "cell_type": "code",
   "execution_count": null,
   "id": "1d3a850f",
   "metadata": {},
   "outputs": [],
   "source": [
    "# [( 2, [0]) -> vuol dire che '0' compare 2 volte\n",
    "# [( 2, [1, 1]) -> vuol dire che '11' compare 2 volte\n",
    "a= ps.frequent(735)  # param is min freq absolute--> 735 corrisponde al minsupport del 10%; 1470 = minsup del 20%"
   ]
  },
  {
   "cell_type": "code",
   "execution_count": null,
   "id": "f962949b",
   "metadata": {},
   "outputs": [],
   "source": [
    "#In questo caso se vogliamo utilizzare \"b\" che rappresenta la topk\n",
    "count = 0\n",
    "newarr = []\n",
    "for i in range(len(b)):\n",
    "    if len(b[i][1]) == 5 and count < 6:\n",
    "        newarr.append(b[i])\n",
    "        count += 1"
   ]
  },
  {
   "cell_type": "code",
   "execution_count": null,
   "id": "97240358",
   "metadata": {},
   "outputs": [],
   "source": [
    "#IN questo caso se vogliamo utilizzare \"a\" che rappresenta i pattern con minsup specificato\n",
    "#dove prima dobbiamo ordinare i valori per support, in modo tale che i primi che becca per quella dimensione siamo sicuri\n",
    "#che saranno quelli con support maggiore\n",
    "\n",
    "result = sorted(a, reverse=True)\n",
    "result = tuple(result)\n",
    "#print('Sorted Tuple :', result)\n",
    "\n",
    "count = 0\n",
    "newarr = []\n",
    "for i in range(len(result)):\n",
    "    if len(result[i][1]) == 5 and count < 5:\n",
    "        newarr.append(result[i])\n",
    "        count += 1"
   ]
  },
  {
   "cell_type": "code",
   "execution_count": null,
   "id": "4a8f25a5",
   "metadata": {},
   "outputs": [],
   "source": [
    "result #stampa tutti i risultati"
   ]
  },
  {
   "cell_type": "code",
   "execution_count": null,
   "id": "c69a50f8",
   "metadata": {},
   "outputs": [],
   "source": [
    "newarr #stampa i risultati specificando lunghezza pattern e freq"
   ]
  },
  {
   "cell_type": "code",
   "execution_count": null,
   "id": "616e1c4b",
   "metadata": {},
   "outputs": [],
   "source": [
    "#settiamo il new arr come una stringa che possa essere poi scansionata all interno del dataset \n",
    "import re\n",
    "\n",
    "arrnew=[]\n",
    "for i in range(len(newarr)):\n",
    "    print(newarr[i][1])\n",
    "    string = str(newarr[i][1])\n",
    "    string = re.sub(\"\\[|\\]\", \"\", string)\n",
    "    string = re.sub(\"\\,\", \"\", string)\n",
    "    arrnew.append(string)\n",
    "arrnew[0]    "
   ]
  },
  {
   "cell_type": "code",
   "execution_count": null,
   "id": "5ede7818",
   "metadata": {},
   "outputs": [],
   "source": [
    "#modifichiamo anche ts_sax\n",
    "ts_sax_nuovo=[]\n",
    "for i in range(len(ts_sax)):\n",
    "    string = str(ts_sax[i])\n",
    "    string = re.sub(\"\\[|\\]\", \"\", string)\n",
    "    ts_sax_nuovo.append(string)"
   ]
  },
  {
   "cell_type": "code",
   "execution_count": null,
   "id": "1cbdc317",
   "metadata": {},
   "outputs": [],
   "source": [
    "pattern_found = []\n",
    "index1 = []\n",
    "index2 = []\n",
    "index3 = []\n",
    "index4 = []\n",
    "index5 = []\n",
    "index6 = []\n",
    "\n",
    "count = 0\n",
    "for i in range(len(arrnew)):\n",
    "    count = 0\n",
    "    for j in range(len(ts_sax_nuovo)):\n",
    "        #print(ts_sax_nuovo[j], arrnew[i]\n",
    "        if arrnew[i] in str(ts_sax_nuovo[j]):\n",
    "            count +=1\n",
    "            if i == 0:\n",
    "                index1.append(j)\n",
    "            if i == 1:\n",
    "                index2.append(j)\n",
    "            if i == 2:\n",
    "                index3.append(j)\n",
    "            if i == 3:\n",
    "                index4.append(j)\n",
    "            if i == 4:\n",
    "                index5.append(j)\n",
    "            #if i == 5:\n",
    "                #index6.append(j)\n",
    "    pattern_found.append(count)"
   ]
  },
  {
   "cell_type": "code",
   "execution_count": null,
   "id": "b3828c37",
   "metadata": {},
   "outputs": [],
   "source": [
    "pattern_found"
   ]
  },
  {
   "cell_type": "markdown",
   "id": "5465911a",
   "metadata": {},
   "source": [
    "## Dataset con ricorrenze dei pattern trovati"
   ]
  },
  {
   "cell_type": "code",
   "execution_count": null,
   "id": "b222a732",
   "metadata": {},
   "outputs": [],
   "source": [
    "y_train_sbilanciato=y_train\n",
    "y_train[0][40]"
   ]
  },
  {
   "cell_type": "code",
   "execution_count": null,
   "id": "8587ff87",
   "metadata": {},
   "outputs": [],
   "source": [
    "#pattern 1\n",
    "a1 = np.count_nonzero(y_train_sbilanciato[0][index1]==1)\n",
    "a2 = np.count_nonzero(y_train_sbilanciato[0][index1]==2)\n",
    "a3 = np.count_nonzero(y_train_sbilanciato[0][index1]==3)\n",
    "a4 = np.count_nonzero(y_train_sbilanciato[0][index1]==4)\n",
    "a5 = np.count_nonzero(y_train_sbilanciato[0][index1]==5)\n",
    "a6 = np.count_nonzero(y_train_sbilanciato[0][index1]==6)\n",
    "\n",
    "#pattern 2\n",
    "b1 = np.count_nonzero(y_train_sbilanciato[0][index2]==1)\n",
    "b2 = np.count_nonzero(y_train_sbilanciato[0][index2]==2)\n",
    "b3 = np.count_nonzero(y_train_sbilanciato[0][index2]==3)\n",
    "b4 = np.count_nonzero(y_train_sbilanciato[0][index2]==4)\n",
    "b5 = np.count_nonzero(y_train_sbilanciato[0][index2]==5)\n",
    "b6 = np.count_nonzero(y_train_sbilanciato[0][index2]==6)\n",
    "\n",
    "#pattern 3\n",
    "c1 = np.count_nonzero(y_train_sbilanciato[0][index3]==1)\n",
    "c2 = np.count_nonzero(y_train_sbilanciato[0][index3]==2)\n",
    "c3 = np.count_nonzero(y_train_sbilanciato[0][index3]==3)\n",
    "c4 = np.count_nonzero(y_train_sbilanciato[0][index3]==4)\n",
    "c5 = np.count_nonzero(y_train_sbilanciato[0][index3]==5)\n",
    "c6 = np.count_nonzero(y_train_sbilanciato[0][index3]==6)\n",
    "\n",
    "\n",
    "#pattern 4\n",
    "d1 = np.count_nonzero(y_train_sbilanciato[0][index4]==1)\n",
    "d2 = np.count_nonzero(y_train_sbilanciato[0][index4]==2)\n",
    "d3 = np.count_nonzero(y_train_sbilanciato[0][index4]==3)\n",
    "d4 = np.count_nonzero(y_train_sbilanciato[0][index4]==4)\n",
    "d5 = np.count_nonzero(y_train_sbilanciato[0][index4]==5)\n",
    "d6 = np.count_nonzero(y_train_sbilanciato[0][index4]==6)\n",
    "\n",
    "\n",
    "#pattern 5\n",
    "e1 = np.count_nonzero(y_train_sbilanciato[0][index5]==1)\n",
    "e2 = np.count_nonzero(y_train_sbilanciato[0][index5]==2)\n",
    "e3 = np.count_nonzero(y_train_sbilanciato[0][index5]==3)\n",
    "e4 = np.count_nonzero(y_train_sbilanciato[0][index5]==4)\n",
    "e5 = np.count_nonzero(y_train_sbilanciato[0][index5]==5)\n",
    "e6 = np.count_nonzero(y_train_sbilanciato[0][index5]==6)\n",
    "\n",
    "\n",
    "##pattern 6\n",
    "#f1 = np.count_nonzero(y_train_sbilanciato[0][index6]==1)\n",
    "#f2 = np.count_nonzero(y_train_sbilanciato[0][index6]==2)\n",
    "#f3 = np.count_nonzero(y_train_sbilanciato[0][index6]==3)\n",
    "#f4 = np.count_nonzero(y_train_sbilanciato[0][index6]==4)\n",
    "#f5 = np.count_nonzero(y_train_sbilanciato[0][index6]==5)\n",
    "#f6 = np.count_nonzero(y_train_sbilanciato[0][index6]==6)\n",
    "#"
   ]
  },
  {
   "cell_type": "code",
   "execution_count": null,
   "id": "9107f289",
   "metadata": {},
   "outputs": [],
   "source": [
    "d= {\"P1\" : [a1,a2,a3,a4,a5,a6], \"P2\" : [b1,b2,b3,b4,b5,b6], \"P3\" : [c1,c2,c3,c4,c5,c6], \"P4\" : [d1,d2,d3,d4,d5,d6], \"P5\" : [e1,e2,e3,e4,e5,e6]}\n",
    "new=pd.DataFrame(data=d)"
   ]
  },
  {
   "cell_type": "code",
   "execution_count": null,
   "id": "64692fa3",
   "metadata": {},
   "outputs": [],
   "source": [
    "new"
   ]
  },
  {
   "cell_type": "code",
   "execution_count": null,
   "id": "e7a5aab9",
   "metadata": {},
   "outputs": [],
   "source": []
  },
  {
   "cell_type": "code",
   "execution_count": null,
   "id": "29b5d478",
   "metadata": {},
   "outputs": [],
   "source": []
  },
  {
   "cell_type": "code",
   "execution_count": null,
   "id": "b426e854",
   "metadata": {},
   "outputs": [],
   "source": []
  },
  {
   "cell_type": "code",
   "execution_count": null,
   "id": "3a8b62d1",
   "metadata": {},
   "outputs": [],
   "source": []
  },
  {
   "cell_type": "code",
   "execution_count": null,
   "id": "ffba0398",
   "metadata": {},
   "outputs": [],
   "source": []
  }
 ],
 "metadata": {
  "kernelspec": {
   "display_name": "Python 3 (ipykernel)",
   "language": "python",
   "name": "python3"
  },
  "language_info": {
   "codemirror_mode": {
    "name": "ipython",
    "version": 3
   },
   "file_extension": ".py",
   "mimetype": "text/x-python",
   "name": "python",
   "nbconvert_exporter": "python",
   "pygments_lexer": "ipython3",
   "version": "3.9.12"
  }
 },
 "nbformat": 4,
 "nbformat_minor": 5
}
