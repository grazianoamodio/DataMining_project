{
 "cells": [
  {
   "cell_type": "code",
   "execution_count": null,
   "id": "d71e809e",
   "metadata": {},
   "outputs": [],
   "source": [
    "%matplotlib inline\n",
    "\n",
    "import numpy as np\n",
    "import pandas as pd\n",
    "import matplotlib.pyplot as plt\n",
    "\n",
    "from collections import defaultdict"
   ]
  },
  {
   "cell_type": "markdown",
   "id": "43a79c43",
   "metadata": {},
   "source": [
    "# Data Preparation"
   ]
  },
  {
   "cell_type": "code",
   "execution_count": null,
   "id": "94b27c06",
   "metadata": {},
   "outputs": [],
   "source": [
    "X_train = pd.read_csv(\"X_train.txt\", header=None,  delim_whitespace=True)\n",
    "y_train = pd.read_csv(\"y_train.txt\", header=None, delim_whitespace=True )\n",
    "X_test = pd.read_csv(\"X_test.txt\", header=None, delim_whitespace=True )\n",
    "y_test = pd.read_csv(\"y_test.txt\", header=None, delim_whitespace=True )\n",
    "subject_test = pd.read_csv(\"subject_test.txt\", header=None, delim_whitespace=True )\n",
    "subject_train = pd.read_csv(\"subject_train.txt\", header=None, delim_whitespace=True )\n",
    "features = pd.read_csv(\"features.txt\", header=None, delim_whitespace=True )"
   ]
  },
  {
   "cell_type": "code",
   "execution_count": null,
   "id": "16c64ea5",
   "metadata": {},
   "outputs": [],
   "source": [
    "body_acc_x_train = pd.read_csv(\"body_acc_x_train.txt\", header=None,  delim_whitespace=True)\n",
    "body_acc_y_train = pd.read_csv(\"body_acc_y_train.txt\", header=None,  delim_whitespace=True)\n",
    "body_acc_z_train = pd.read_csv(\"body_acc_z_train.txt\", header=None,  delim_whitespace=True)\n",
    "body_gyro_x_train = pd.read_csv(\"body_gyro_x_train.txt\", header=None,  delim_whitespace=True)\n",
    "body_gyro_y_train = pd.read_csv(\"body_gyro_y_train.txt\", header=None,  delim_whitespace=True)\n",
    "body_gyro_z_train = pd.read_csv(\"body_gyro_z_train.txt\", header=None,  delim_whitespace=True)\n",
    "total_acc_x_train = pd.read_csv(\"body_gyro_x_train.txt\", header=None,  delim_whitespace=True)\n",
    "total_acc_y_train = pd.read_csv(\"body_gyro_y_train.txt\", header=None,  delim_whitespace=True)\n",
    "total_acc_z_train = pd.read_csv(\"body_gyro_z_train.txt\", header=None,  delim_whitespace=True)\n",
    "\n",
    "body_acc_x_test  = pd.read_csv(\"body_acc_x_test.txt\", header=None,  delim_whitespace=True)\n",
    "body_acc_y_test  = pd.read_csv(\"body_acc_y_test.txt\", header=None,  delim_whitespace=True)\n",
    "body_acc_z_test  = pd.read_csv(\"body_acc_z_test.txt\", header=None,  delim_whitespace=True)\n",
    "body_gyro_x_test = pd.read_csv(\"body_gyro_x_test.txt\", header=None,  delim_whitespace=True)\n",
    "body_gyro_y_test = pd.read_csv(\"body_gyro_y_test.txt\", header=None,  delim_whitespace=True)\n",
    "body_gyro_z_test = pd.read_csv(\"body_gyro_z_test.txt\", header=None,  delim_whitespace=True)\n",
    "total_acc_x_test = pd.read_csv(\"body_gyro_x_test.txt\", header=None,  delim_whitespace=True)\n",
    "total_acc_y_test = pd.read_csv(\"body_gyro_y_test.txt\", header=None,  delim_whitespace=True)\n",
    "total_acc_z_test = pd.read_csv(\"body_gyro_z_test.txt\", header=None,  delim_whitespace=True)"
   ]
  },
  {
   "cell_type": "code",
   "execution_count": null,
   "id": "99ebf174",
   "metadata": {},
   "outputs": [],
   "source": [
    "feature = features\n",
    "feature.drop(0,inplace=True, axis=1)"
   ]
  },
  {
   "cell_type": "code",
   "execution_count": null,
   "id": "26130e00",
   "metadata": {},
   "outputs": [],
   "source": [
    "#inseriamo l'intestazione al dataset\n",
    "lista=[]\n",
    "feat_transpa = feature.transpose()\n",
    "for i in range(561):\n",
    "    lista.append(feat_transpa.iloc[0][i])\n",
    "X_test.columns=lista    \n",
    "X_train.columns=lista"
   ]
  },
  {
   "cell_type": "code",
   "execution_count": null,
   "id": "a71c1055",
   "metadata": {},
   "outputs": [],
   "source": [
    "# eliminiamo le colonne che contengono la stima mad in quanto quasi uguale a dev.std\n",
    "\n",
    "stringa=\"mad()\"\n",
    "for col in X_train.columns:\n",
    "    if(stringa in col):\n",
    "        X_train.drop(labels=col, axis=1, inplace=True)\n",
    "for col in X_test.columns:\n",
    "    if(stringa in col):\n",
    "        X_test.drop(labels=col, axis=1, inplace=True)\n",
    "#for col in features:\n",
    "#    if (stringa in col):\n",
    "#        features.drop(labels=col,axis=1,inplace=True)"
   ]
  },
  {
   "cell_type": "markdown",
   "id": "0380f1c9",
   "metadata": {},
   "source": [
    "# ADVANCED CLUSTERING"
   ]
  },
  {
   "cell_type": "code",
   "execution_count": null,
   "id": "1127c86c",
   "metadata": {},
   "outputs": [],
   "source": [
    "from sklearn.metrics import accuracy_score, f1_score\n",
    "from sklearn.model_selection import train_test_split"
   ]
  },
  {
   "cell_type": "markdown",
   "id": "29cdca99",
   "metadata": {},
   "source": [
    "## Gaussian Mixture"
   ]
  },
  {
   "cell_type": "code",
   "execution_count": null,
   "id": "18241133",
   "metadata": {},
   "outputs": [],
   "source": [
    "from sklearn.mixture import GaussianMixture"
   ]
  },
  {
   "cell_type": "code",
   "execution_count": null,
   "id": "48f47cf7",
   "metadata": {},
   "outputs": [],
   "source": [
    "gm1 = GaussianMixture(n_components=10, random_state=0, covariance_type='full', n_init=5)\n",
    "gm1.fit(X_train)\n",
    "\n",
    "y_pred_gm1 = gm1.predict(X_test)\n",
    "\n",
    "print('Accuracy %s' % accuracy_score(y_test, y_pred_gm1))\n",
    "print('F1-score %s' % f1_score(y_test, y_pred_gm1, average=None))"
   ]
  },
  {
   "cell_type": "code",
   "execution_count": null,
   "id": "d967e121",
   "metadata": {},
   "outputs": [],
   "source": [
    "gm1.means_"
   ]
  },
  {
   "cell_type": "code",
   "execution_count": null,
   "id": "ea031e74",
   "metadata": {},
   "outputs": [],
   "source": [
    "gm1.covariances_"
   ]
  },
  {
   "cell_type": "code",
   "execution_count": null,
   "id": "b391a753",
   "metadata": {},
   "outputs": [],
   "source": [
    "gm1.precisions_"
   ]
  },
  {
   "cell_type": "markdown",
   "id": "eca6a86f",
   "metadata": {},
   "source": [
    "### How many K cluster?"
   ]
  },
  {
   "cell_type": "markdown",
   "id": "960dad64",
   "metadata": {},
   "source": [
    "### BIC criterion"
   ]
  },
  {
   "cell_type": "code",
   "execution_count": null,
   "id": "10714d88",
   "metadata": {},
   "outputs": [],
   "source": [
    "# BIC for GMM\n",
    "#%%time\n",
    "n_components = range(1, 20)\n",
    "covariance_type = ['spherical', 'tied', 'diag', 'full']\n",
    "score=[]\n",
    "for cov in covariance_type:\n",
    "    for n_comp in n_components:\n",
    "        gmm=GaussianMixture(n_components=n_comp,covariance_type=cov)\n",
    "        gmm.fit(X_train)\n",
    "        score.append((cov,n_comp,gmm.bic(X_train)))\n",
    "score"
   ]
  },
  {
   "cell_type": "markdown",
   "id": "7c135d47",
   "metadata": {},
   "source": [
    "## X-Means"
   ]
  },
  {
   "cell_type": "code",
   "execution_count": null,
   "id": "ec61e8b6",
   "metadata": {},
   "outputs": [],
   "source": [
    "#!pip install pyclustering"
   ]
  },
  {
   "cell_type": "code",
   "execution_count": null,
   "id": "1b432207",
   "metadata": {},
   "outputs": [],
   "source": [
    "# Prepare initial centers - amount of initial centers defines amount of clusters from which X-Means will start analysis.\n",
    "#Pyclustering utilizza come metrica di distanza di default la euclidean square distance\n",
    "from pyclustering.cluster import cluster_visualizer\n",
    "from pyclustering.cluster.xmeans import xmeans, splitting_type\n",
    "from pyclustering.cluster.center_initializer import kmeans_plusplus_initializer\n",
    "from pyclustering.utils import read_sample\n",
    "from pyclustering.samples.definitions import FCPS_SAMPLES"
   ]
  },
  {
   "cell_type": "code",
   "execution_count": null,
   "id": "e8b45ce2",
   "metadata": {},
   "outputs": [],
   "source": [
    "xmeans_instance = xmeans(sample, initial_centers, 1000, random_state=random_seed )\n",
    "xmeans_instance.process()\n",
    "clusters = xmeans_instance.get_clusters()\n",
    "centers = xmeans_instance.get_centers()"
   ]
  },
  {
   "cell_type": "code",
   "execution_count": null,
   "id": "49dcf203",
   "metadata": {},
   "outputs": [],
   "source": [
    "len(clusters)"
   ]
  },
  {
   "cell_type": "markdown",
   "id": "725f2808",
   "metadata": {},
   "source": [
    "## New X_Means"
   ]
  },
  {
   "cell_type": "code",
   "execution_count": null,
   "id": "db640df5",
   "metadata": {},
   "outputs": [],
   "source": [
    "# X_means per scegliere il numero K di cluster. \n",
    "from pyclustering.cluster.silhouette import silhouette\n",
    "\n",
    "random_seed = 1000\n",
    "array=X_train.values\n",
    "max_clust= 70\n",
    "amount_initial_centers = 2\n",
    "sample=array\n",
    "initial_centers = kmeans_plusplus_initializer(sample, amount_initial_centers).initialize()\n",
    "error=[]\n",
    "sil=[]\n",
    "\n",
    "for i in range(2,max_clust):\n",
    "    xmeans_instance = xmeans(sample, initial_centers, i, random_state=random_seed )\n",
    "    xmeans_instance.process()\n",
    "    clusters = xmeans_instance.get_clusters()\n",
    "    centers = xmeans_instance.get_centers()\n",
    "    error.append(xmeans_instance.get_total_wce())\n",
    "    silu = silhouette(sample, clusters).process().get_score()\n",
    "    silu=np.array(silu)\n",
    "    silu=silu.mean()\n",
    "    sil.append(silu)"
   ]
  },
  {
   "cell_type": "code",
   "execution_count": null,
   "id": "d3da2b4b",
   "metadata": {},
   "outputs": [],
   "source": [
    "for i in range(len(error)):\n",
    "    print(i, \"SSE: \", error[i], \"Silhoeutte \", sil[i])"
   ]
  },
  {
   "cell_type": "code",
   "execution_count": null,
   "id": "af1752e4",
   "metadata": {},
   "outputs": [],
   "source": [
    "y1=error\n",
    "y2=sil\n",
    "a=range(2,70)\n",
    "color1=\"red\"\n",
    "color2=\"blue\"\n",
    "\n",
    "fig, ax1 = plt.subplots(figsize=(9,6))\n",
    "\n",
    "ax1.set_xlabel('Number of cluster')\n",
    "ax1.set_ylabel('SSE', color=color1)\n",
    "ax1.plot(a, y1, color=color1)\n",
    "ax1.tick_params(axis='y', labelcolor=color1)\n",
    "\n",
    "ax2 = ax1.twinx()  \n",
    "ax2.set_ylabel('Silhouette', color=color2)  \n",
    "ax2.plot(a, y2, color=color2)\n",
    "ax2.tick_params(axis='y', labelcolor=color2)\n",
    "\n",
    "fig.tight_layout()\n",
    "plt.show()"
   ]
  },
  {
   "cell_type": "code",
   "execution_count": null,
   "id": "24b37a8d",
   "metadata": {},
   "outputs": [],
   "source": [
    "from sklearn.preprocessing import Normalizer\n",
    "from pyclustering.cluster.silhouette import silhouette\n",
    "\n",
    "array=X_train.values\n",
    "#X_train_norm = Normalizer(norm='l2').fit(array)\n",
    "#X_train_normalized = X_train_norm.transform(array)\n",
    "\n",
    "max_clust= 17\n",
    "amount_initial_centers = 17\n",
    "sample=array\n",
    "initial_centers = kmeans_plusplus_initializer(sample, amount_initial_centers).initialize()\n",
    "error_norm=[]\n",
    "sil=[]\n",
    "\n",
    "xmeans_instance = xmeans(sample, initial_centers)\n",
    "xmeans_instance.process()\n",
    "clusters = xmeans_instance.get_clusters()\n",
    "centers = xmeans_instance.get_centers()\n",
    "error_norm.append(xmeans_instance.get_total_wce())\n",
    "silu = silhouette(sample, clusters).process().get_score()\n",
    "silu=np.array(silu)\n",
    "silu=silu.mean()\n",
    "sil.append(silu)"
   ]
  },
  {
   "cell_type": "code",
   "execution_count": null,
   "id": "6e5e0e0d",
   "metadata": {},
   "outputs": [],
   "source": [
    "#distribuzione cluster\n",
    "for i in range(len(clusters)):\n",
    "    print(i,  len(clusters[i]))"
   ]
  },
  {
   "cell_type": "code",
   "execution_count": null,
   "id": "a14c666f",
   "metadata": {},
   "outputs": [],
   "source": [
    "print(\"SSE\",error_norm, \"Numero di cluster\", len(clusters), \"silhouette:\", sil )"
   ]
  },
  {
   "cell_type": "code",
   "execution_count": null,
   "id": "89a33b8a",
   "metadata": {},
   "outputs": [],
   "source": [
    "#PLOT CLUSTER\n",
    "plt.figure(figsize=[10,6])\n",
    "i=3\n",
    "j=4\n",
    "for indexes in clusters:\n",
    "    plt.scatter(X_train.values[indexes,i], X_train.values[indexes,j], alpha=0.4)\n",
    "for c in centers:\n",
    "    plt.scatter(c[i], c[j], s=100, edgecolors='k')"
   ]
  },
  {
   "cell_type": "markdown",
   "id": "683a27cd",
   "metadata": {},
   "source": [
    "## K_Means"
   ]
  },
  {
   "cell_type": "code",
   "execution_count": null,
   "id": "6315cc9c",
   "metadata": {},
   "outputs": [],
   "source": [
    "from pyclustering.cluster.kmeans import kmeans, kmeans_visualizer\n",
    "from pyclustering.cluster.center_initializer import kmeans_plusplus_initializer\n",
    "\n",
    "\n",
    "random_seed = 1000\n",
    "sample=X_train.values\n",
    "amount_initial_center=range(70)\n",
    "error=[]\n",
    "sil=[]\n",
    "\n",
    "for i in range(2, len(amount_initial_center)):\n",
    "    \n",
    "    initial_centers = kmeans_plusplus_initializer(sample, amount_centers=i, random_state=random_seed).initialize()\n",
    "    kmeans_instance = kmeans(sample, initial_centers)\n",
    "    kmeans_instance.process()\n",
    "    clusters = kmeans_instance.get_clusters()\n",
    "    centers = kmeans_instance.get_centers()\n",
    "    error.append(kmeans_instance.get_total_wce())\n",
    "    silu = silhouette(sample, clusters).process().get_score()\n",
    "    silu=np.array(silu)\n",
    "    silu=silu.mean()\n",
    "    sil.append(silu)"
   ]
  },
  {
   "cell_type": "code",
   "execution_count": null,
   "id": "edfc1568",
   "metadata": {},
   "outputs": [],
   "source": [
    "for i in range(len(error)):\n",
    "    print(i, \"SSE: \", error[i], \"Silhoeutte \", sil[i])"
   ]
  },
  {
   "cell_type": "code",
   "execution_count": null,
   "id": "c65524cf",
   "metadata": {},
   "outputs": [],
   "source": [
    "y1=error\n",
    "y2=sil\n",
    "a=range(2,70)\n",
    "color1=\"red\"\n",
    "color2=\"blue\"\n",
    "\n",
    "fig, ax1 = plt.subplots(figsize=(9,6))\n",
    "\n",
    "ax1.set_xlabel('Number of cluster')\n",
    "ax1.set_ylabel('SSE', color=color1)\n",
    "ax1.plot(a, y1, color=color1)\n",
    "ax1.tick_params(axis='y', labelcolor=color1)\n",
    "\n",
    "ax2 = ax1.twinx()  \n",
    "ax2.set_ylabel('Silhouette', color=color2)  \n",
    "ax2.plot(a, y2, color=color2)\n",
    "ax2.tick_params(axis='y', labelcolor=color2)\n",
    "\n",
    "fig.tight_layout()\n",
    "plt.show()"
   ]
  },
  {
   "cell_type": "markdown",
   "id": "618acf77",
   "metadata": {},
   "source": [
    "## OPTICS"
   ]
  },
  {
   "cell_type": "code",
   "execution_count": null,
   "id": "fb145e22",
   "metadata": {},
   "outputs": [],
   "source": [
    "from sklearn.cluster import OPTICS\n",
    "from sklearn.metrics import silhouette_score\n",
    "from sklearn import metrics\n",
    "#from skelarn.metrics import metrics.silhouette_score"
   ]
  },
  {
   "cell_type": "code",
   "execution_count": null,
   "id": "31e97a0d",
   "metadata": {},
   "outputs": [],
   "source": [
    "optics = OPTICS(min_samples=(528), max_eps=np.inf)\n",
    "optics.fit(X_train)"
   ]
  },
  {
   "cell_type": "code",
   "execution_count": null,
   "id": "387b0255",
   "metadata": {},
   "outputs": [],
   "source": [
    "np.unique(optics.labels_, return_counts=True)"
   ]
  },
  {
   "cell_type": "code",
   "execution_count": null,
   "id": "c6e6a254",
   "metadata": {},
   "outputs": [],
   "source": [
    "#silhouette score senza considerare le labels=-1 in quanto sono noise points\n",
    "sil=silhouette_score(X_train[optics.labels_ != -1], optics.labels_[optics.labels_ != -1])\n",
    "sil"
   ]
  },
  {
   "cell_type": "code",
   "execution_count": null,
   "id": "7983bb16",
   "metadata": {},
   "outputs": [],
   "source": [
    "#PLOT\n",
    "for cluster_id in np.unique(optics.labels_)[:20]:\n",
    "    indexes = np.where(optics.labels_==cluster_id)\n",
    "    plt.scatter(X_train.values[indexes,i], X_train.values[indexes,j], alpha=0.4)"
   ]
  },
  {
   "cell_type": "code",
   "execution_count": null,
   "id": "842495a1",
   "metadata": {},
   "outputs": [],
   "source": [
    "#da questo grafico si potrebbe capire dove c'è il salto della reach_dist che probabilmente c'è un cluster.\n",
    "#più l'altezza dei bin è bassa, più concentrato e denso è il cluster\n",
    "plt.hist(optics.reachability_[1:])\n",
    "plt.show()"
   ]
  },
  {
   "cell_type": "code",
   "execution_count": null,
   "id": "56aa1085",
   "metadata": {},
   "outputs": [],
   "source": [
    "optics1 = OPTICS(min_samples=5, max_eps=np.inf, cluster_method='dbscan', eps=0.3)\n",
    "optics1.fit(X_train)"
   ]
  },
  {
   "cell_type": "code",
   "execution_count": null,
   "id": "bf2a0030",
   "metadata": {},
   "outputs": [],
   "source": [
    "#Cluster method = 'XI', scegliamo il miglior numero di min_samples in base alla silhouette\n",
    "plt.figure(figsize = (9,6))\n",
    "min_samples_to_test = [2,3,4,5,6,7,8,9,10,11,12,13,14,15] #massimo 20 perchè poi vede solo noise points\n",
    "values = [2,3,4,5,6,7,8,9,10,11,12,13,14,15]\n",
    "\n",
    "#range_n_clusters = [2, 3, 4, 5, 6, 7, 8, 9, 10, 11, 12, 13, 14,15,16,17,18,19,20,21,22,23,24,25,26,27,28,29,30]\n",
    "plt.rcParams['axes.facecolor'] = 'w'\n",
    "silhouette_avg = []\n",
    "error =[]\n",
    "for min_samples in min_samples_to_test:\n",
    "    optics1 = OPTICS(min_samples=min_samples, max_eps=np.inf, cluster_method='xi')\n",
    "    optics1.fit(X_train)\n",
    "    cluster_labels = optics1.labels_\n",
    "    silhouette_avg.append(silhouette_score(X_train.values[optics1.labels_ != -1], optics1.labels_[optics1.labels_ != -1]))\n",
    "    \n",
    "plt.plot(min_samples_to_test, silhouette_avg, marker='.', markersize=10, markerfacecolor='black')\n",
    "plt.xlabel('\\n Min_samples', fontsize = 15, fontweight = 'bold')\n",
    "plt.ylabel('Silhouette score', fontsize = 15, fontweight = 'bold')\n",
    "plt.grid(True)\n",
    "plt.xticks(values)\n",
    "plt.show()"
   ]
  },
  {
   "cell_type": "code",
   "execution_count": null,
   "id": "e991666e",
   "metadata": {},
   "outputs": [],
   "source": [
    "silhouette_avg"
   ]
  },
  {
   "cell_type": "code",
   "execution_count": null,
   "id": "3024b9c8",
   "metadata": {},
   "outputs": [],
   "source": [
    "optics1 = OPTICS(min_samples=11, max_eps=np.inf, cluster_method='xi')\n",
    "optics1.fit(X_train)"
   ]
  },
  {
   "cell_type": "code",
   "execution_count": null,
   "id": "2304ff02",
   "metadata": {},
   "outputs": [],
   "source": [
    "np.unique(optics1.labels_, return_counts=True)"
   ]
  },
  {
   "cell_type": "code",
   "execution_count": null,
   "id": "75580e09",
   "metadata": {},
   "outputs": [],
   "source": [
    "plt.figure(figsize=(9,6))\n",
    "for cluster_id in np.unique(optics1.labels_)[:20]:\n",
    "    indexes = np.where(optics1.labels_==cluster_id)\n",
    "    plt.scatter(X_train.values[indexes,3], X_train.values[indexes,4], alpha=0.4)"
   ]
  },
  {
   "cell_type": "markdown",
   "id": "18721b8a",
   "metadata": {},
   "source": [
    "# Transactional Clustering"
   ]
  },
  {
   "cell_type": "markdown",
   "id": "5d54b567",
   "metadata": {},
   "source": [
    "## K-Mode"
   ]
  },
  {
   "cell_type": "code",
   "execution_count": null,
   "id": "cd5be2c4",
   "metadata": {},
   "outputs": [],
   "source": [
    "#!pip install kmodes"
   ]
  },
  {
   "cell_type": "code",
   "execution_count": null,
   "id": "636ac9d0",
   "metadata": {},
   "outputs": [],
   "source": [
    "#!pip install plotnine"
   ]
  },
  {
   "cell_type": "code",
   "execution_count": null,
   "id": "c706c1ef",
   "metadata": {},
   "outputs": [],
   "source": [
    "# Import module for data visualization\n",
    "from plotnine import *\n",
    "import plotnine\n",
    "# Data visualization with matplotlib\n",
    "import matplotlib.pyplot as plt\n",
    "# Use the theme of ggplot\n",
    "plt.style.use('ggplot')\n",
    "# Import module for k-protoype cluster\n",
    "from kmodes.kmodes import KModes"
   ]
  },
  {
   "cell_type": "code",
   "execution_count": null,
   "id": "d1d3ca5a",
   "metadata": {},
   "outputs": [],
   "source": [
    "X_cat = list()\n",
    "for i in range(len(X_train)):\n",
    "    X_cat.append(pd.qcut(X_train.values[i], q=[0.0, 0.25, 0.5, 0.75, 1.0], labels=False))\n",
    "X_cat = np.array(X_cat)"
   ]
  },
  {
   "cell_type": "code",
   "execution_count": null,
   "id": "96550fda",
   "metadata": {},
   "outputs": [],
   "source": [
    "X_cat_test = list()\n",
    "for i in range(len(X_test)):\n",
    "    X_cat_test.append(pd.qcut(X_test.values[i], q=[0.0, 0.25, 0.5, 0.75, 1.0], labels=False))\n",
    "X_cat_test = np.array(X_cat_test)"
   ]
  },
  {
   "cell_type": "code",
   "execution_count": null,
   "id": "78c6e89c",
   "metadata": {},
   "outputs": [],
   "source": [
    "X_cat_test=pd.DataFrame(data=X_cat_test)\n",
    "X_cat_test"
   ]
  },
  {
   "cell_type": "code",
   "execution_count": null,
   "id": "b8f170b6",
   "metadata": {},
   "outputs": [],
   "source": [
    "X_cat=pd.DataFrame(data=X_cat)\n",
    "X_cat"
   ]
  },
  {
   "cell_type": "code",
   "execution_count": null,
   "id": "f7cb6208",
   "metadata": {},
   "outputs": [],
   "source": [
    "np.unique(X_cat_test, return_counts=True)"
   ]
  },
  {
   "cell_type": "code",
   "execution_count": null,
   "id": "664066e4",
   "metadata": {},
   "outputs": [],
   "source": [
    "cost = []\n",
    "costo=[]\n",
    "for cluster in range(2, 20):    \n",
    "    km = KModes(n_jobs = -1, n_clusters = cluster, init = 'Huang', random_state = 0)\n",
    "    km = km.fit(X_cat)\n",
    "    costo.append(km.cost_)\n",
    "    cost=costo[0]\n",
    "    "
   ]
  },
  {
   "cell_type": "code",
   "execution_count": null,
   "id": "05ea8b00",
   "metadata": {},
   "outputs": [],
   "source": [
    "#Elbow Method to find optimal number of cluster\n",
    "df_cost = pd.DataFrame({'Cluster': range(2, 20), 'Cost': costo})\n",
    "# Data viz\n",
    "plotnine.options.figure_size = (7, 4.5)\n",
    "(\n",
    "    ggplot(data = df_cost)+\n",
    "    geom_line(aes(x = 'Cluster',\n",
    "                  y = 'Cost'))+\n",
    "    geom_point(aes(x = 'Cluster',\n",
    "                   y = 'Cost'))+\n",
    "    geom_label(aes(x = 'Cluster',\n",
    "                   y = 'Cost',\n",
    "                   label = 'Cluster'),\n",
    "               size = 8,\n",
    "               nudge_y = 1000) +\n",
    "    labs(title = 'Optimal number of cluster with Elbow Method')+\n",
    "    xlab('Number of Clusters k')+\n",
    "    ylab('Cost')+\n",
    "    theme_minimal()\n",
    ")"
   ]
  },
  {
   "cell_type": "code",
   "execution_count": null,
   "id": "6b3cfa3d",
   "metadata": {},
   "outputs": [],
   "source": [
    "costo"
   ]
  },
  {
   "cell_type": "code",
   "execution_count": null,
   "id": "4608ce87",
   "metadata": {},
   "outputs": [],
   "source": [
    "km = KModes(n_jobs = -1, n_clusters = 7, init = 'Huang', random_state = 0)\n",
    "km = km.fit(X_cat)"
   ]
  },
  {
   "cell_type": "code",
   "execution_count": null,
   "id": "4a7f0918",
   "metadata": {},
   "outputs": [],
   "source": [
    "km.cluster_centroids_"
   ]
  },
  {
   "cell_type": "code",
   "execution_count": null,
   "id": "c82a0142",
   "metadata": {},
   "outputs": [],
   "source": [
    "np.unique(km.labels_, return_counts=True)"
   ]
  },
  {
   "cell_type": "code",
   "execution_count": null,
   "id": "7d5d2488",
   "metadata": {},
   "outputs": [],
   "source": [
    "#ditribuzione oggetti cluster con le classi del dataset\n",
    "pclass_xt = pd.crosstab(km.labels_, y_train[0])\n",
    "pclass_xt"
   ]
  },
  {
   "cell_type": "markdown",
   "id": "c1d38a33",
   "metadata": {},
   "source": [
    "## To see characteristics into a single cluster"
   ]
  },
  {
   "cell_type": "code",
   "execution_count": null,
   "id": "1e8f4703",
   "metadata": {},
   "outputs": [],
   "source": [
    "cluster2=np.where(km.labels_ == 2)\n",
    "y_train2=y_train.iloc[cluster2][:]\n",
    "X_cat2=X_cat.iloc[cluster2][:]"
   ]
  },
  {
   "cell_type": "code",
   "execution_count": null,
   "id": "5b9b651c",
   "metadata": {},
   "outputs": [],
   "source": [
    "from sklearn.model_selection import train_test_split, cross_val_score \n",
    "X_cat2_new, X_test2_new, y_train2_new, y_test2_new = train_test_split(X_cat2, y_train2, test_size = 0.33, random_state = 42)"
   ]
  },
  {
   "cell_type": "code",
   "execution_count": null,
   "id": "589cbab4",
   "metadata": {},
   "outputs": [],
   "source": [
    "from sklearn.tree import DecisionTreeClassifier\n",
    "from sklearn.metrics import accuracy_score, f1_score, classification_report\n",
    "\n",
    "clf_dt = DecisionTreeClassifier(criterion='gini', max_depth= None, random_state=42)\n",
    "clf_dt.fit(X_cat2_new, y_train2_new) #df3"
   ]
  },
  {
   "cell_type": "code",
   "execution_count": null,
   "id": "c49ab9a7",
   "metadata": {},
   "outputs": [],
   "source": [
    "len(X_cat2)"
   ]
  },
  {
   "cell_type": "code",
   "execution_count": null,
   "id": "20f0049b",
   "metadata": {},
   "outputs": [],
   "source": [
    "y_pred=clf_dt.predict(X_test2_new)\n",
    "print('Accuracy %s' % accuracy_score(y_test2_new, y_pred))\n",
    "print('F1-score %s' % f1_score(y_test2_new, y_pred, average=None))\n",
    "print(classification_report(y_test2_new, y_pred))"
   ]
  },
  {
   "cell_type": "code",
   "execution_count": null,
   "id": "f866df82",
   "metadata": {},
   "outputs": [],
   "source": [
    "clf_dt.feature_importances_\n",
    "df=pd.DataFrame({'Features_names': X_train.columns, 'Importances': clf_dt.feature_importances_})\n",
    "df"
   ]
  },
  {
   "cell_type": "code",
   "execution_count": null,
   "id": "bbf98a94",
   "metadata": {},
   "outputs": [],
   "source": [
    "df1= df.sort_values(by='Importances', ascending=False)\n",
    "df2=df1[:6]\n",
    "df2"
   ]
  },
  {
   "cell_type": "code",
   "execution_count": null,
   "id": "422761ea",
   "metadata": {},
   "outputs": [],
   "source": [
    "#1 WALKING #2 WALKING_UPSTAIRS #3 WALKING_DOWNSTAIRS #4 SITTING #5 STANDING #6 LAYING\n",
    "print(np.unique(X_cat2[198]), np.unique( y_train2[0], return_counts=True))\n",
    "# si vede che per questa var sono presenti solo valori alti ed in particolare identifica 800 record Walking downstairs"
   ]
  },
  {
   "cell_type": "code",
   "execution_count": null,
   "id": "3d47b35d",
   "metadata": {},
   "outputs": [],
   "source": [
    "#in teoria andando a plottare i cluster per la variabile tBodyAccMag-std() discretizzata si dovrebbe vedere che\n",
    "#effettivamente per un valore alto ovvero 3 si identifica un gruppo di \n",
    "pclass_xt2 = pd.crosstab(X_cat2[198], y_train2[0])\n",
    "pclass_xt2"
   ]
  },
  {
   "cell_type": "markdown",
   "id": "970b4783",
   "metadata": {},
   "source": [
    "## ROCK"
   ]
  },
  {
   "cell_type": "code",
   "execution_count": null,
   "id": "72905c80",
   "metadata": {},
   "outputs": [],
   "source": [
    "#NON usato\n",
    "from pyclustering.cluster import rock"
   ]
  },
  {
   "cell_type": "code",
   "execution_count": null,
   "id": "a9e79e63",
   "metadata": {},
   "outputs": [],
   "source": [
    "rc = rock.rock(X_cat[:100], eps=0.7, number_clusters=4, threshold=0.5)\n",
    "rc.process()"
   ]
  },
  {
   "cell_type": "code",
   "execution_count": null,
   "id": "3cc81469",
   "metadata": {},
   "outputs": [],
   "source": [
    "clusters_rc = rc.get_clusters()"
   ]
  },
  {
   "cell_type": "code",
   "execution_count": null,
   "id": "71c62469",
   "metadata": {},
   "outputs": [],
   "source": [
    "clusters_rc"
   ]
  },
  {
   "cell_type": "code",
   "execution_count": null,
   "id": "2eae1969",
   "metadata": {},
   "outputs": [],
   "source": [
    "for i, indexes in enumerate(clusters):\n",
    "    print(i, X_cat[indexes[:5]])\n",
    "    #plt.scatter(X_train.values[indexes,1], X_train.values[indexes,2], alpha=0.4)"
   ]
  },
  {
   "cell_type": "markdown",
   "id": "9213f8f1",
   "metadata": {},
   "source": [
    "## Transactional Clustering TX-Means"
   ]
  },
  {
   "cell_type": "code",
   "execution_count": 2,
   "id": "05eba35c",
   "metadata": {},
   "outputs": [],
   "source": [
    "# https://github.com/riccotti/TX-Means"
   ]
  },
  {
   "cell_type": "code",
   "execution_count": null,
   "id": "7fc69a9d",
   "metadata": {},
   "outputs": [],
   "source": []
  }
 ],
 "metadata": {
  "kernelspec": {
   "display_name": "Python 3 (ipykernel)",
   "language": "python",
   "name": "python3"
  },
  "language_info": {
   "codemirror_mode": {
    "name": "ipython",
    "version": 3
   },
   "file_extension": ".py",
   "mimetype": "text/x-python",
   "name": "python",
   "nbconvert_exporter": "python",
   "pygments_lexer": "ipython3",
   "version": "3.9.12"
  }
 },
 "nbformat": 4,
 "nbformat_minor": 5
}
